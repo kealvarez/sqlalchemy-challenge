{
 "cells": [
  {
   "cell_type": "code",
   "execution_count": 10,
   "metadata": {},
   "outputs": [],
   "source": [
    "%matplotlib inline\n",
    "from matplotlib import style\n",
    "style.use('fivethirtyeight')\n",
    "import matplotlib.pyplot as plt"
   ]
  },
  {
   "cell_type": "code",
   "execution_count": 11,
   "metadata": {},
   "outputs": [],
   "source": [
    "import numpy as np\n",
    "import pandas as pd\n",
    "import datetime as dt"
   ]
  },
  {
   "cell_type": "markdown",
   "metadata": {},
   "source": [
    "# Reflect Tables into SQLAlchemy ORM"
   ]
  },
  {
   "cell_type": "code",
   "execution_count": 12,
   "metadata": {},
   "outputs": [],
   "source": [
    "# Python SQL toolkit and Object Relational Mapper\n",
    "import sqlalchemy\n",
    "from sqlalchemy.ext.automap import automap_base\n",
    "from sqlalchemy.orm import Session\n",
    "from sqlalchemy import create_engine, func #, inspect"
   ]
  },
  {
   "cell_type": "code",
   "execution_count": 13,
   "metadata": {},
   "outputs": [],
   "source": [
    "# create engine to hawaii.sqlite\n",
    "engine=create_engine('sqlite:///Resources/hawaii.sqlite')"
   ]
  },
  {
   "cell_type": "code",
   "execution_count": 14,
   "metadata": {},
   "outputs": [],
   "source": [
    "# reflect an existing database into a new model\n",
    "Base = automap_base()\n",
    "# reflect the tables\n",
    "Base.prepare(engine, reflect=True)"
   ]
  },
  {
   "cell_type": "code",
   "execution_count": 15,
   "metadata": {},
   "outputs": [
    {
     "data": {
      "text/plain": [
       "['measurement', 'station']"
      ]
     },
     "execution_count": 15,
     "metadata": {},
     "output_type": "execute_result"
    }
   ],
   "source": [
    "# View all of the classes that automap found\n",
    "Base.classes.keys() "
   ]
  },
  {
   "cell_type": "code",
   "execution_count": 16,
   "metadata": {},
   "outputs": [],
   "source": [
    "# Save references to each table\n",
    "measurement = Base.classes.measurement\n",
    "station = Base.classes.station"
   ]
  },
  {
   "cell_type": "code",
   "execution_count": 17,
   "metadata": {},
   "outputs": [],
   "source": [
    "# Create our session (link) from Python to the DB\n",
    "session = Session(engine) \n",
    "#inspector = inspect(engine)"
   ]
  },
  {
   "cell_type": "markdown",
   "metadata": {},
   "source": [
    "# Exploratory Precipitation Analysis"
   ]
  },
  {
   "cell_type": "code",
   "execution_count": 18,
   "metadata": {},
   "outputs": [
    {
     "ename": "ArgumentError",
     "evalue": "Method <bound method ColumnOperators.desc of <sqlalchemy.orm.attributes.InstrumentedAttribute object at 0x00000223F9D0BA40>> may not be passed as a SQL expression",
     "output_type": "error",
     "traceback": [
      "\u001b[1;31m---------------------------------------------------------------------------\u001b[0m",
      "\u001b[1;31mArgumentError\u001b[0m                             Traceback (most recent call last)",
      "Input \u001b[1;32mIn [18]\u001b[0m, in \u001b[0;36m<cell line: 2>\u001b[1;34m()\u001b[0m\n\u001b[0;32m      1\u001b[0m \u001b[38;5;66;03m# Find the most recent date in the data set.\u001b[39;00m\n\u001b[1;32m----> 2\u001b[0m recent_date \u001b[38;5;241m=\u001b[39m (\u001b[43msession\u001b[49m\u001b[38;5;241;43m.\u001b[39;49m\u001b[43mquery\u001b[49m\u001b[43m(\u001b[49m\u001b[43mmeasurement\u001b[49m\u001b[38;5;241;43m.\u001b[39;49m\u001b[43mdate\u001b[49m\u001b[43m)\u001b[49m\u001b[38;5;241;43m.\u001b[39;49m\u001b[43morder_by\u001b[49m\u001b[43m(\u001b[49m\u001b[43mmeasurement\u001b[49m\u001b[38;5;241;43m.\u001b[39;49m\u001b[43mdate\u001b[49m\u001b[38;5;241;43m.\u001b[39;49m\u001b[43mdesc\u001b[49m\u001b[43m)\u001b[49m\u001b[38;5;241m.\u001b[39mfirst())\n\u001b[0;32m      3\u001b[0m recent_date\n",
      "File \u001b[1;32m<string>:2\u001b[0m, in \u001b[0;36morder_by\u001b[1;34m(self, *clauses)\u001b[0m\n",
      "File \u001b[1;32m~\\anaconda3\\lib\\site-packages\\sqlalchemy\\sql\\base.py:110\u001b[0m, in \u001b[0;36m_generative.<locals>._generative\u001b[1;34m(fn, self, *args, **kw)\u001b[0m\n\u001b[0;32m    107\u001b[0m \u001b[38;5;124;03m\"\"\"Mark a method as generative.\"\"\"\u001b[39;00m\n\u001b[0;32m    109\u001b[0m \u001b[38;5;28mself\u001b[39m \u001b[38;5;241m=\u001b[39m \u001b[38;5;28mself\u001b[39m\u001b[38;5;241m.\u001b[39m_generate()\n\u001b[1;32m--> 110\u001b[0m x \u001b[38;5;241m=\u001b[39m fn(\u001b[38;5;28mself\u001b[39m, \u001b[38;5;241m*\u001b[39margs, \u001b[38;5;241m*\u001b[39m\u001b[38;5;241m*\u001b[39mkw)\n\u001b[0;32m    111\u001b[0m \u001b[38;5;28;01massert\u001b[39;00m x \u001b[38;5;129;01mis\u001b[39;00m \u001b[38;5;28;01mNone\u001b[39;00m, \u001b[38;5;124m\"\u001b[39m\u001b[38;5;124mgenerative methods must have no return value\u001b[39m\u001b[38;5;124m\"\u001b[39m\n\u001b[0;32m    112\u001b[0m \u001b[38;5;28;01mreturn\u001b[39;00m \u001b[38;5;28mself\u001b[39m\n",
      "File \u001b[1;32m<string>:2\u001b[0m, in \u001b[0;36morder_by\u001b[1;34m(self, *clauses)\u001b[0m\n",
      "File \u001b[1;32m~\\anaconda3\\lib\\site-packages\\sqlalchemy\\orm\\base.py:230\u001b[0m, in \u001b[0;36m_assertions.<locals>.generate\u001b[1;34m(fn, *args, **kw)\u001b[0m\n\u001b[0;32m    228\u001b[0m \u001b[38;5;28;01mfor\u001b[39;00m assertion \u001b[38;5;129;01min\u001b[39;00m assertions:\n\u001b[0;32m    229\u001b[0m     assertion(\u001b[38;5;28mself\u001b[39m, fn\u001b[38;5;241m.\u001b[39m\u001b[38;5;18m__name__\u001b[39m)\n\u001b[1;32m--> 230\u001b[0m fn(\u001b[38;5;28mself\u001b[39m, \u001b[38;5;241m*\u001b[39margs[\u001b[38;5;241m1\u001b[39m:], \u001b[38;5;241m*\u001b[39m\u001b[38;5;241m*\u001b[39mkw)\n",
      "File \u001b[1;32m~\\anaconda3\\lib\\site-packages\\sqlalchemy\\orm\\query.py:1830\u001b[0m, in \u001b[0;36mQuery.order_by\u001b[1;34m(self, *clauses)\u001b[0m\n\u001b[0;32m   1828\u001b[0m     \u001b[38;5;28mself\u001b[39m\u001b[38;5;241m.\u001b[39m_order_by_clauses \u001b[38;5;241m=\u001b[39m ()\n\u001b[0;32m   1829\u001b[0m \u001b[38;5;28;01melse\u001b[39;00m:\n\u001b[1;32m-> 1830\u001b[0m     criterion \u001b[38;5;241m=\u001b[39m \u001b[38;5;28;43mtuple\u001b[39;49m\u001b[43m(\u001b[49m\n\u001b[0;32m   1831\u001b[0m \u001b[43m        \u001b[49m\u001b[43mcoercions\u001b[49m\u001b[38;5;241;43m.\u001b[39;49m\u001b[43mexpect\u001b[49m\u001b[43m(\u001b[49m\u001b[43mroles\u001b[49m\u001b[38;5;241;43m.\u001b[39;49m\u001b[43mOrderByRole\u001b[49m\u001b[43m,\u001b[49m\u001b[43m \u001b[49m\u001b[43mclause\u001b[49m\u001b[43m)\u001b[49m\n\u001b[0;32m   1832\u001b[0m \u001b[43m        \u001b[49m\u001b[38;5;28;43;01mfor\u001b[39;49;00m\u001b[43m \u001b[49m\u001b[43mclause\u001b[49m\u001b[43m \u001b[49m\u001b[38;5;129;43;01min\u001b[39;49;00m\u001b[43m \u001b[49m\u001b[43mclauses\u001b[49m\n\u001b[0;32m   1833\u001b[0m \u001b[43m    \u001b[49m\u001b[43m)\u001b[49m\n\u001b[0;32m   1834\u001b[0m     \u001b[38;5;66;03m# legacy vvvvvvvvvvvvvvvvvvvvvvvvvvv\u001b[39;00m\n\u001b[0;32m   1835\u001b[0m     \u001b[38;5;28;01mif\u001b[39;00m \u001b[38;5;28mself\u001b[39m\u001b[38;5;241m.\u001b[39m_aliased_generation:\n",
      "File \u001b[1;32m~\\anaconda3\\lib\\site-packages\\sqlalchemy\\orm\\query.py:1831\u001b[0m, in \u001b[0;36m<genexpr>\u001b[1;34m(.0)\u001b[0m\n\u001b[0;32m   1828\u001b[0m     \u001b[38;5;28mself\u001b[39m\u001b[38;5;241m.\u001b[39m_order_by_clauses \u001b[38;5;241m=\u001b[39m ()\n\u001b[0;32m   1829\u001b[0m \u001b[38;5;28;01melse\u001b[39;00m:\n\u001b[0;32m   1830\u001b[0m     criterion \u001b[38;5;241m=\u001b[39m \u001b[38;5;28mtuple\u001b[39m(\n\u001b[1;32m-> 1831\u001b[0m         \u001b[43mcoercions\u001b[49m\u001b[38;5;241;43m.\u001b[39;49m\u001b[43mexpect\u001b[49m\u001b[43m(\u001b[49m\u001b[43mroles\u001b[49m\u001b[38;5;241;43m.\u001b[39;49m\u001b[43mOrderByRole\u001b[49m\u001b[43m,\u001b[49m\u001b[43m \u001b[49m\u001b[43mclause\u001b[49m\u001b[43m)\u001b[49m\n\u001b[0;32m   1832\u001b[0m         \u001b[38;5;28;01mfor\u001b[39;00m clause \u001b[38;5;129;01min\u001b[39;00m clauses\n\u001b[0;32m   1833\u001b[0m     )\n\u001b[0;32m   1834\u001b[0m     \u001b[38;5;66;03m# legacy vvvvvvvvvvvvvvvvvvvvvvvvvvv\u001b[39;00m\n\u001b[0;32m   1835\u001b[0m     \u001b[38;5;28;01mif\u001b[39;00m \u001b[38;5;28mself\u001b[39m\u001b[38;5;241m.\u001b[39m_aliased_generation:\n",
      "File \u001b[1;32m~\\anaconda3\\lib\\site-packages\\sqlalchemy\\sql\\coercions.py:129\u001b[0m, in \u001b[0;36mexpect\u001b[1;34m(role, element, apply_propagate_attrs, argname, post_inspect, **kw)\u001b[0m\n\u001b[0;32m    112\u001b[0m \u001b[38;5;28;01mdef\u001b[39;00m \u001b[38;5;21mexpect\u001b[39m(\n\u001b[0;32m    113\u001b[0m     role,\n\u001b[0;32m    114\u001b[0m     element,\n\u001b[1;32m   (...)\u001b[0m\n\u001b[0;32m    118\u001b[0m     \u001b[38;5;241m*\u001b[39m\u001b[38;5;241m*\u001b[39mkw\n\u001b[0;32m    119\u001b[0m ):\n\u001b[0;32m    120\u001b[0m     \u001b[38;5;28;01mif\u001b[39;00m (\n\u001b[0;32m    121\u001b[0m         role\u001b[38;5;241m.\u001b[39mallows_lambda\n\u001b[0;32m    122\u001b[0m         \u001b[38;5;66;03m# note callable() will not invoke a __getattr__() method, whereas\u001b[39;00m\n\u001b[1;32m   (...)\u001b[0m\n\u001b[0;32m    127\u001b[0m         \u001b[38;5;129;01mand\u001b[39;00m \u001b[38;5;28mhasattr\u001b[39m(element, \u001b[38;5;124m\"\u001b[39m\u001b[38;5;124m__code__\u001b[39m\u001b[38;5;124m\"\u001b[39m)\n\u001b[0;32m    128\u001b[0m     ):\n\u001b[1;32m--> 129\u001b[0m         \u001b[38;5;28;01mreturn\u001b[39;00m \u001b[43mlambdas\u001b[49m\u001b[38;5;241;43m.\u001b[39;49m\u001b[43mLambdaElement\u001b[49m\u001b[43m(\u001b[49m\n\u001b[0;32m    130\u001b[0m \u001b[43m            \u001b[49m\u001b[43melement\u001b[49m\u001b[43m,\u001b[49m\n\u001b[0;32m    131\u001b[0m \u001b[43m            \u001b[49m\u001b[43mrole\u001b[49m\u001b[43m,\u001b[49m\n\u001b[0;32m    132\u001b[0m \u001b[43m            \u001b[49m\u001b[43mlambdas\u001b[49m\u001b[38;5;241;43m.\u001b[39;49m\u001b[43mLambdaOptions\u001b[49m\u001b[43m(\u001b[49m\u001b[38;5;241;43m*\u001b[39;49m\u001b[38;5;241;43m*\u001b[39;49m\u001b[43mkw\u001b[49m\u001b[43m)\u001b[49m\u001b[43m,\u001b[49m\n\u001b[0;32m    133\u001b[0m \u001b[43m            \u001b[49m\u001b[43mapply_propagate_attrs\u001b[49m\u001b[38;5;241;43m=\u001b[39;49m\u001b[43mapply_propagate_attrs\u001b[49m\u001b[43m,\u001b[49m\n\u001b[0;32m    134\u001b[0m \u001b[43m        \u001b[49m\u001b[43m)\u001b[49m\n\u001b[0;32m    136\u001b[0m     \u001b[38;5;66;03m# major case is that we are given a ClauseElement already, skip more\u001b[39;00m\n\u001b[0;32m    137\u001b[0m     \u001b[38;5;66;03m# elaborate logic up front if possible\u001b[39;00m\n\u001b[0;32m    138\u001b[0m     impl \u001b[38;5;241m=\u001b[39m _impl_lookup[role]\n",
      "File \u001b[1;32m~\\anaconda3\\lib\\site-packages\\sqlalchemy\\sql\\lambdas.py:162\u001b[0m, in \u001b[0;36mLambdaElement.__init__\u001b[1;34m(self, fn, role, opts, apply_propagate_attrs)\u001b[0m\n\u001b[0;32m    159\u001b[0m \u001b[38;5;28;01mif\u001b[39;00m apply_propagate_attrs \u001b[38;5;129;01mis\u001b[39;00m \u001b[38;5;28;01mNone\u001b[39;00m \u001b[38;5;129;01mand\u001b[39;00m (role \u001b[38;5;129;01mis\u001b[39;00m roles\u001b[38;5;241m.\u001b[39mStatementRole):\n\u001b[0;32m    160\u001b[0m     apply_propagate_attrs \u001b[38;5;241m=\u001b[39m \u001b[38;5;28mself\u001b[39m\n\u001b[1;32m--> 162\u001b[0m rec \u001b[38;5;241m=\u001b[39m \u001b[38;5;28;43mself\u001b[39;49m\u001b[38;5;241;43m.\u001b[39;49m\u001b[43m_retrieve_tracker_rec\u001b[49m\u001b[43m(\u001b[49m\u001b[43mfn\u001b[49m\u001b[43m,\u001b[49m\u001b[43m \u001b[49m\u001b[43mapply_propagate_attrs\u001b[49m\u001b[43m,\u001b[49m\u001b[43m \u001b[49m\u001b[43mopts\u001b[49m\u001b[43m)\u001b[49m\n\u001b[0;32m    164\u001b[0m \u001b[38;5;28;01mif\u001b[39;00m apply_propagate_attrs \u001b[38;5;129;01mis\u001b[39;00m \u001b[38;5;129;01mnot\u001b[39;00m \u001b[38;5;28;01mNone\u001b[39;00m:\n\u001b[0;32m    165\u001b[0m     propagate_attrs \u001b[38;5;241m=\u001b[39m rec\u001b[38;5;241m.\u001b[39mpropagate_attrs\n",
      "File \u001b[1;32m~\\anaconda3\\lib\\site-packages\\sqlalchemy\\sql\\lambdas.py:178\u001b[0m, in \u001b[0;36mLambdaElement._retrieve_tracker_rec\u001b[1;34m(self, fn, apply_propagate_attrs, opts)\u001b[0m\n\u001b[0;32m    176\u001b[0m fn \u001b[38;5;241m=\u001b[39m \u001b[38;5;28mself\u001b[39m\u001b[38;5;241m.\u001b[39mfn\n\u001b[0;32m    177\u001b[0m closure \u001b[38;5;241m=\u001b[39m fn\u001b[38;5;241m.\u001b[39m\u001b[38;5;18m__closure__\u001b[39m\n\u001b[1;32m--> 178\u001b[0m tracker \u001b[38;5;241m=\u001b[39m \u001b[43mAnalyzedCode\u001b[49m\u001b[38;5;241;43m.\u001b[39;49m\u001b[43mget\u001b[49m\u001b[43m(\u001b[49m\n\u001b[0;32m    179\u001b[0m \u001b[43m    \u001b[49m\u001b[43mfn\u001b[49m\u001b[43m,\u001b[49m\n\u001b[0;32m    180\u001b[0m \u001b[43m    \u001b[49m\u001b[38;5;28;43mself\u001b[39;49m\u001b[43m,\u001b[49m\n\u001b[0;32m    181\u001b[0m \u001b[43m    \u001b[49m\u001b[43mopts\u001b[49m\u001b[43m,\u001b[49m\n\u001b[0;32m    182\u001b[0m \u001b[43m\u001b[49m\u001b[43m)\u001b[49m\n\u001b[0;32m    184\u001b[0m \u001b[38;5;28mself\u001b[39m\u001b[38;5;241m.\u001b[39m_resolved_bindparams \u001b[38;5;241m=\u001b[39m bindparams \u001b[38;5;241m=\u001b[39m []\n\u001b[0;32m    186\u001b[0m \u001b[38;5;28;01mif\u001b[39;00m \u001b[38;5;28mself\u001b[39m\u001b[38;5;241m.\u001b[39mparent_lambda \u001b[38;5;129;01mis\u001b[39;00m \u001b[38;5;129;01mnot\u001b[39;00m \u001b[38;5;28;01mNone\u001b[39;00m:\n",
      "File \u001b[1;32m~\\anaconda3\\lib\\site-packages\\sqlalchemy\\sql\\lambdas.py:617\u001b[0m, in \u001b[0;36mAnalyzedCode.get\u001b[1;34m(cls, fn, lambda_element, lambda_kw, **kw)\u001b[0m\n\u001b[0;32m    615\u001b[0m \u001b[38;5;28;01mexcept\u001b[39;00m \u001b[38;5;167;01mKeyError\u001b[39;00m:\n\u001b[0;32m    616\u001b[0m     \u001b[38;5;28;01mpass\u001b[39;00m\n\u001b[1;32m--> 617\u001b[0m \u001b[38;5;28mcls\u001b[39m\u001b[38;5;241m.\u001b[39m_fns[fn\u001b[38;5;241m.\u001b[39m\u001b[38;5;18m__code__\u001b[39m] \u001b[38;5;241m=\u001b[39m analyzed \u001b[38;5;241m=\u001b[39m AnalyzedCode(\n\u001b[0;32m    618\u001b[0m     fn, lambda_element, lambda_kw, \u001b[38;5;241m*\u001b[39m\u001b[38;5;241m*\u001b[39mkw\n\u001b[0;32m    619\u001b[0m )\n\u001b[0;32m    620\u001b[0m \u001b[38;5;28;01mreturn\u001b[39;00m analyzed\n",
      "File \u001b[1;32m~\\anaconda3\\lib\\site-packages\\sqlalchemy\\sql\\lambdas.py:624\u001b[0m, in \u001b[0;36mAnalyzedCode.__init__\u001b[1;34m(self, fn, lambda_element, opts)\u001b[0m\n\u001b[0;32m    622\u001b[0m \u001b[38;5;28;01mdef\u001b[39;00m \u001b[38;5;21m__init__\u001b[39m(\u001b[38;5;28mself\u001b[39m, fn, lambda_element, opts):\n\u001b[0;32m    623\u001b[0m     \u001b[38;5;28;01mif\u001b[39;00m inspect\u001b[38;5;241m.\u001b[39mismethod(fn):\n\u001b[1;32m--> 624\u001b[0m         \u001b[38;5;28;01mraise\u001b[39;00m exc\u001b[38;5;241m.\u001b[39mArgumentError(\n\u001b[0;32m    625\u001b[0m             \u001b[38;5;124m\"\u001b[39m\u001b[38;5;124mMethod \u001b[39m\u001b[38;5;132;01m%s\u001b[39;00m\u001b[38;5;124m may not be passed as a SQL expression\u001b[39m\u001b[38;5;124m\"\u001b[39m \u001b[38;5;241m%\u001b[39m fn\n\u001b[0;32m    626\u001b[0m         )\n\u001b[0;32m    627\u001b[0m     closure \u001b[38;5;241m=\u001b[39m fn\u001b[38;5;241m.\u001b[39m\u001b[38;5;18m__closure__\u001b[39m\n\u001b[0;32m    629\u001b[0m     \u001b[38;5;28mself\u001b[39m\u001b[38;5;241m.\u001b[39mtrack_bound_values \u001b[38;5;241m=\u001b[39m (\n\u001b[0;32m    630\u001b[0m         opts\u001b[38;5;241m.\u001b[39mtrack_bound_values \u001b[38;5;129;01mand\u001b[39;00m opts\u001b[38;5;241m.\u001b[39mglobal_track_bound_values\n\u001b[0;32m    631\u001b[0m     )\n",
      "\u001b[1;31mArgumentError\u001b[0m: Method <bound method ColumnOperators.desc of <sqlalchemy.orm.attributes.InstrumentedAttribute object at 0x00000223F9D0BA40>> may not be passed as a SQL expression"
     ]
    }
   ],
   "source": [
    "# Find the most recent date in the data set.\n",
    "recent_date = (session.query(measurement.date).order_by(measurement.date.desc).first())\n",
    "recent_date"
   ]
  },
  {
   "cell_type": "code",
   "execution_count": null,
   "metadata": {},
   "outputs": [],
   "source": [
    "# Design a query to retrieve the last 12 months of precipitation data and plot the results. \n",
    "# Starting from the most recent data point in the database. \n",
    "\n",
    "# Calculate the date one year from the last date in data set.\n",
    "\n",
    "\n",
    "# Perform a query to retrieve the data and precipitation scores\n",
    "\n",
    "\n",
    "# Save the query results as a Pandas DataFrame and set the index to the date column\n",
    "\n",
    "\n",
    "# Sort the dataframe by date\n",
    "\n",
    "\n",
    "# Use Pandas Plotting with Matplotlib to plot the data\n",
    "\n",
    "\n"
   ]
  },
  {
   "cell_type": "code",
   "execution_count": null,
   "metadata": {},
   "outputs": [],
   "source": [
    "# Use Pandas to calcualte the summary statistics for the precipitation data\n"
   ]
  },
  {
   "cell_type": "markdown",
   "metadata": {},
   "source": [
    "# Exploratory Station Analysis"
   ]
  },
  {
   "cell_type": "code",
   "execution_count": null,
   "metadata": {},
   "outputs": [],
   "source": [
    "# Design a query to calculate the total number stations in the dataset\n"
   ]
  },
  {
   "cell_type": "code",
   "execution_count": null,
   "metadata": {},
   "outputs": [],
   "source": [
    "# Design a query to find the most active stations (i.e. what stations have the most rows?)\n",
    "# List the stations and the counts in descending order.\n"
   ]
  },
  {
   "cell_type": "code",
   "execution_count": null,
   "metadata": {},
   "outputs": [],
   "source": [
    "# Using the most active station id from the previous query, calculate the lowest, highest, and average temperature.\n"
   ]
  },
  {
   "cell_type": "code",
   "execution_count": null,
   "metadata": {},
   "outputs": [],
   "source": [
    "# Using the most active station id\n",
    "# Query the last 12 months of temperature observation data for this station and plot the results as a histogram\n"
   ]
  },
  {
   "cell_type": "markdown",
   "metadata": {},
   "source": [
    "# Close session"
   ]
  },
  {
   "cell_type": "code",
   "execution_count": null,
   "metadata": {},
   "outputs": [],
   "source": [
    "# Close Session\n",
    "session.close()"
   ]
  },
  {
   "cell_type": "code",
   "execution_count": null,
   "metadata": {},
   "outputs": [],
   "source": []
  }
 ],
 "metadata": {
  "anaconda-cloud": {},
  "kernel_info": {
   "name": "python3"
  },
  "kernelspec": {
   "display_name": "PythonData",
   "language": "python",
   "name": "pythondata"
  },
  "language_info": {
   "codemirror_mode": {
    "name": "ipython",
    "version": 3
   },
   "file_extension": ".py",
   "mimetype": "text/x-python",
   "name": "python",
   "nbconvert_exporter": "python",
   "pygments_lexer": "ipython3",
   "version": "3.9.12"
  },
  "nteract": {
   "version": "0.12.3"
  },
  "varInspector": {
   "cols": {
    "lenName": 16,
    "lenType": 16,
    "lenVar": 40
   },
   "kernels_config": {
    "python": {
     "delete_cmd_postfix": "",
     "delete_cmd_prefix": "del ",
     "library": "var_list.py",
     "varRefreshCmd": "print(var_dic_list())"
    },
    "r": {
     "delete_cmd_postfix": ") ",
     "delete_cmd_prefix": "rm(",
     "library": "var_list.r",
     "varRefreshCmd": "cat(var_dic_list()) "
    }
   },
   "types_to_exclude": [
    "module",
    "function",
    "builtin_function_or_method",
    "instance",
    "_Feature"
   ],
   "window_display": false
  }
 },
 "nbformat": 4,
 "nbformat_minor": 2
}
